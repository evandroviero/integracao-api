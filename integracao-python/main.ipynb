{
 "cells": [
  {
   "cell_type": "markdown",
   "metadata": {},
   "source": [
    "# Exemplo Basico"
   ]
  },
  {
   "cell_type": "code",
   "execution_count": 18,
   "metadata": {},
   "outputs": [
    {
     "name": "stdout",
     "output_type": "stream",
     "text": [
      "Requesting https://httpbin.org/basic-auth/user/pass\n",
      "Headers: application/json\n",
      "Encoding: utf-8\n",
      "Text: {\n",
      "  \"authenticated\": true, \n",
      "  \"user\": \"user\"\n",
      "}\n",
      "\n",
      "JSON: {'authenticated': True, 'user': 'user'}\n"
     ]
    }
   ],
   "source": [
    "import requests\n",
    "\n",
    "def fetch_protected_resource(url: str, username: str, password: str) -> None:\n",
    "    response = requests.get(url, auth=(username, password))\n",
    "    \n",
    "    if response.status_code == 200:\n",
    "        print(f\"Requesting {url}\")\n",
    "        print(f\"Headers: {response.headers.get('content-type', 'N/A')}\")\n",
    "        print(f\"Encoding: {response.encoding}\")\n",
    "        print(f\"Text: {response.text}\")\n",
    "        try:\n",
    "            print(f\"JSON: {response.json()}\")\n",
    "        except requests.JSONDecodeError:\n",
    "            print(\"Response is not in JSON format.\")\n",
    "    else:\n",
    "        print(f\"Failed to fetch resource. Status code: {response.status_code}\")\n",
    "\n",
    "if __name__ == \"__main__\":\n",
    "    URL = \"https://httpbin.org/basic-auth/user/pass\"\n",
    "    USERNAME = \"user\"\n",
    "    PASSWORD = \"pass\"\n",
    "    \n",
    "    fetch_protected_resource(URL, USERNAME, PASSWORD)"
   ]
  },
  {
   "cell_type": "markdown",
   "metadata": {},
   "source": [
    "# API publica"
   ]
  },
  {
   "cell_type": "code",
   "execution_count": 25,
   "metadata": {},
   "outputs": [
    {
     "name": "stdout",
     "output_type": "stream",
     "text": [
      "557766\n"
     ]
    }
   ],
   "source": [
    "import requests\n",
    "\n",
    "def converter(coin_origin, coin_target):\n",
    "    response = requests.get(\n",
    "        url= f\"https://economia.awesomeapi.com.br/json/last/{coin_origin}-{coin_target}\"\n",
    "    )\n",
    "\n",
    "    if response.status_code == 404:\n",
    "        return response.json().get(\"message\")\n",
    "    \n",
    "    return response.json().get(f\"{coin_origin}{coin_target}\").get(\"bid\")\n",
    "\n",
    "print(converter(\"BTC\", \"BRL\"))\n"
   ]
  },
  {
   "cell_type": "markdown",
   "metadata": {},
   "source": [
    "## Clients e Services"
   ]
  },
  {
   "cell_type": "code",
   "execution_count": 29,
   "metadata": {},
   "outputs": [
    {
     "name": "stdout",
     "output_type": "stream",
     "text": [
      "96846\n"
     ]
    }
   ],
   "source": [
    "from clients import CoinConversorService\n",
    "\n",
    "client = CoinConversorService()\n",
    "conversion = client.converter(\"BTC\",\"USD\")\n",
    "\n",
    "print(conversion)"
   ]
  },
  {
   "cell_type": "markdown",
   "metadata": {},
   "source": [
    "## API WhatsApp"
   ]
  },
  {
   "cell_type": "markdown",
   "metadata": {},
   "source": []
  }
 ],
 "metadata": {
  "kernelspec": {
   "display_name": "Python 3",
   "language": "python",
   "name": "python3"
  },
  "language_info": {
   "codemirror_mode": {
    "name": "ipython",
    "version": 3
   },
   "file_extension": ".py",
   "mimetype": "text/x-python",
   "name": "python",
   "nbconvert_exporter": "python",
   "pygments_lexer": "ipython3",
   "version": "3.12.0"
  }
 },
 "nbformat": 4,
 "nbformat_minor": 2
}
