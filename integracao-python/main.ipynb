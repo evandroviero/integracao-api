{
 "cells": [
  {
   "cell_type": "markdown",
   "metadata": {},
   "source": [
    "# Exemplo Basico"
   ]
  },
  {
   "cell_type": "code",
   "execution_count": 5,
   "metadata": {},
   "outputs": [
    {
     "name": "stdout",
     "output_type": "stream",
     "text": [
      "Requesting https://httpbin.org/basic-auth/user/pass\n",
      "Headers: application/json\n",
      "Encoding: utf-8\n",
      "Text: {\n",
      "  \"authenticated\": true, \n",
      "  \"user\": \"user\"\n",
      "}\n",
      "\n",
      "JSON: {'authenticated': True, 'user': 'user'}\n"
     ]
    }
   ],
   "source": [
    "import requests\n",
    "\n",
    "def fetch_protected_resource(url: str, username: str, password: str) -> None:\n",
    "    response = requests.get(url, auth=(username, password))\n",
    "    \n",
    "    if response.status_code == 200:\n",
    "        print(f\"Requesting {url}\")\n",
    "        print(f\"Headers: {response.headers.get('content-type', 'N/A')}\")\n",
    "        print(f\"Encoding: {response.encoding}\")\n",
    "        print(f\"Text: {response.text}\")\n",
    "        try:\n",
    "            print(f\"JSON: {response.json()}\")\n",
    "        except requests.JSONDecodeError:\n",
    "            print(\"Response is not in JSON format.\")\n",
    "    else:\n",
    "        print(f\"Failed to fetch resource. Status code: {response.status_code}\")\n",
    "\n",
    "if __name__ == \"__main__\":\n",
    "    URL = \"https://httpbin.org/basic-auth/user/pass\"\n",
    "    USERNAME = \"user\"\n",
    "    PASSWORD = \"pass\"\n",
    "    \n",
    "    fetch_protected_resource(URL, USERNAME, PASSWORD)"
   ]
  },
  {
   "cell_type": "markdown",
   "metadata": {},
   "source": [
    "# API PUBLICA"
   ]
  },
  {
   "cell_type": "code",
   "execution_count": null,
   "metadata": {},
   "outputs": [],
   "source": []
  }
 ],
 "metadata": {
  "kernelspec": {
   "display_name": "Python 3",
   "language": "python",
   "name": "python3"
  },
  "language_info": {
   "codemirror_mode": {
    "name": "ipython",
    "version": 3
   },
   "file_extension": ".py",
   "mimetype": "text/x-python",
   "name": "python",
   "nbconvert_exporter": "python",
   "pygments_lexer": "ipython3",
   "version": "3.12.0"
  }
 },
 "nbformat": 4,
 "nbformat_minor": 2
}
