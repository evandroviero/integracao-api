{
 "cells": [
  {
   "cell_type": "markdown",
   "metadata": {},
   "source": [
    "# Exemplo Basico"
   ]
  },
  {
   "cell_type": "code",
   "execution_count": null,
   "metadata": {},
   "outputs": [],
   "source": [
    "import requests\n",
    "\n",
    "def fetch_protected_resource(url: str, username: str, password: str) -> None:\n",
    "    response = requests.get(url, auth=(username, password))\n",
    "    \n",
    "    if response.status_code == 200:\n",
    "        print(f\"Requesting {url}\")\n",
    "        print(f\"Headers: {response.headers.get('content-type', 'N/A')}\")\n",
    "        print(f\"Encoding: {response.encoding}\")\n",
    "        print(f\"Text: {response.text}\")\n",
    "        try:\n",
    "            print(f\"JSON: {response.json()}\")\n",
    "        except requests.JSONDecodeError:\n",
    "            print(\"Response is not in JSON format.\")\n",
    "    else:\n",
    "        print(f\"Failed to fetch resource. Status code: {response.status_code}\")\n",
    "\n",
    "if __name__ == \"__main__\":\n",
    "    URL = \"https://httpbin.org/basic-auth/user/pass\"\n",
    "    USERNAME = \"user\"\n",
    "    PASSWORD = \"pass\"\n",
    "    \n",
    "    fetch_protected_resource(URL, USERNAME, PASSWORD)"
   ]
  },
  {
   "cell_type": "markdown",
   "metadata": {},
   "source": [
    "# API publica"
   ]
  },
  {
   "cell_type": "code",
   "execution_count": null,
   "metadata": {},
   "outputs": [],
   "source": [
    "import requests\n",
    "\n",
    "def converter(coin_origin, coin_target):\n",
    "    response = requests.get(\n",
    "        url= f\"https://economia.awesomeapi.com.br/json/last/{coin_origin}-{coin_target}\"\n",
    "    )\n",
    "\n",
    "    if response.status_code == 404:\n",
    "        return response.json().get(\"message\")\n",
    "    \n",
    "    return response.json().get(f\"{coin_origin}{coin_target}\").get(\"bid\")\n",
    "\n",
    "print(converter(\"BTC\", \"BRL\"))\n"
   ]
  },
  {
   "cell_type": "markdown",
   "metadata": {},
   "source": [
    "## Clients e Services"
   ]
  },
  {
   "cell_type": "code",
   "execution_count": null,
   "metadata": {},
   "outputs": [],
   "source": [
    "from clients.conversor_service import CoinConversorService\n",
    "\n",
    "client = CoinConversorService()\n",
    "conversion = client.converter(\"BTC\",\"USD\")\n",
    "\n",
    "print(conversion)"
   ]
  },
  {
   "cell_type": "markdown",
   "metadata": {},
   "source": [
    "## API WhatsApp\n",
    "\n",
    "**link**: https://www.callmebot.com/blog/free-api-whatsapp-messages/\n",
    "\n",
    "Setup:\n",
    "You need to get the apikey form the bot before using the API:\n",
    "\n",
    "1. Add the phone number +34 684 783 347 into your Phone Contacts. (Name it it as you wish)\n",
    "2. Send this message \"I allow callmebot to send me messages\" to the new Contact created (using WhatsApp of course)\n",
    "3. Wait until you receive the message \"API Activated for your phone number. Your APIKEY is 123123\" from the bot.\n",
    "Note: If you don't receive the ApiKey in 2 minutes, please try again after 24hs.\n",
    "4. The WhatsApp message from the bot will contain the apikey needed to send messages using the API.\n",
    "You can send text messages using the API after receiving the confirmation."
   ]
  },
  {
   "cell_type": "code",
   "execution_count": 5,
   "metadata": {},
   "outputs": [
    {
     "data": {
      "text/plain": [
       "'<p>Message to: +555184293068<p>Text to send: Cotação do BTC: 97041.00<p><b>Message queued.</b> You will receive it in a few seconds.'"
      ]
     },
     "execution_count": 5,
     "metadata": {},
     "output_type": "execute_result"
    }
   ],
   "source": [
    "from clients.conversor_service import CoinConversorService\n",
    "from clients.callmebot_service import CallMeBot\n",
    "\n",
    "conversor_service = CoinConversorService()\n",
    "conversion = conversor_service.converter(\"BTC\",\"USD\")\n",
    "\n",
    "\n",
    "wpp_service = CallMeBot()\n",
    "wpp_service.send_message(f\"Cotação do BTC: {float(conversion):.2f}\")\n"
   ]
  },
  {
   "cell_type": "code",
   "execution_count": null,
   "metadata": {},
   "outputs": [],
   "source": []
  }
 ],
 "metadata": {
  "kernelspec": {
   "display_name": "Python 3",
   "language": "python",
   "name": "python3"
  },
  "language_info": {
   "codemirror_mode": {
    "name": "ipython",
    "version": 3
   },
   "file_extension": ".py",
   "mimetype": "text/x-python",
   "name": "python",
   "nbconvert_exporter": "python",
   "pygments_lexer": "ipython3",
   "version": "3.12.0"
  }
 },
 "nbformat": 4,
 "nbformat_minor": 2
}
